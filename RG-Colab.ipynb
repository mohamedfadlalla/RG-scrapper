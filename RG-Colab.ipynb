{
  "cells": [
    {
      "cell_type": "markdown",
      "metadata": {
        "id": "3s0rOMS7q2IR"
      },
      "source": [
        "## setup"
      ]
    },
    {
      "cell_type": "code",
      "execution_count": null,
      "metadata": {
        "cellView": "form",
        "id": "LFXpB2jkgf0m"
      },
      "outputs": [],
      "source": [
        "#@title **Mount Google Drive**\n",
        "from google.colab import drive\n",
        "drive.mount('/content/gdrive')"
      ]
    },
    {
      "cell_type": "code",
      "execution_count": null,
      "metadata": {
        "id": "7BjPnvG8RMrf",
        "cellView": "form"
      },
      "outputs": [],
      "source": [
        "#@title **Install dependencies**\n",
        "%%capture\n",
        "!pip install selenium\n",
        "!pip install beautifulsoup4 \n",
        "!apt-get update \n",
        "!apt install firefox\n",
        "!wget https://github.com/mozilla/geckodriver/releases/download/v0.31.0/geckodriver-v0.31.0-linux64.tar.gz\n",
        "!tar -xf geckodriver-v0.31.0-linux64.tar.gz"
      ]
    },
    {
      "cell_type": "code",
      "execution_count": null,
      "metadata": {
        "id": "qPREqc-cGzZ-"
      },
      "outputs": [],
      "source": [
        "!rm -r RG-scrapper/\n",
        "!git clone https://github.com/mohamedfadlalla/RG-scrapper"
      ]
    },
    {
      "cell_type": "markdown",
      "source": [
        "# Process"
      ],
      "metadata": {
        "id": "owR9CkgluU_D"
      }
    },
    {
      "cell_type": "code",
      "execution_count": null,
      "metadata": {
        "colab": {
          "background_save": true
        },
        "id": "w254vUCvHBqk"
      },
      "outputs": [],
      "source": [
        "# !rm /content/RG-DB.sqlite\n",
        "!sudo python RG-scrapper/main.py"
      ]
    },
    {
      "cell_type": "code",
      "execution_count": null,
      "metadata": {
        "id": "46cpzLoMWkkI"
      },
      "outputs": [],
      "source": [
        "!cp /content/RG-DB.sqlite /content/gdrive/MyDrive/RG-project"
      ]
    }
  ],
  "metadata": {
    "colab": {
      "collapsed_sections": [],
      "name": "RG-project.ipynb",
      "provenance": []
    },
    "kernelspec": {
      "display_name": "Python 3",
      "name": "python3"
    }
  },
  "nbformat": 4,
  "nbformat_minor": 0
}