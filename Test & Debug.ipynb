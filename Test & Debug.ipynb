{
 "cells": [
  {
   "cell_type": "markdown",
   "id": "49bc7a83-fb9a-4d9c-8094-d18f96027b04",
   "metadata": {},
   "source": [
    "## Setup"
   ]
  },
  {
   "cell_type": "code",
   "execution_count": 1,
   "id": "00094e25-ca59-42ca-ac58-bdbbc06e5849",
   "metadata": {},
   "outputs": [],
   "source": [
    "##third party\n",
    "import selenium_setup\n",
    "from bs4 import BeautifulSoup as bs\n",
    "\n",
    "##built in\n",
    "import sqlite3\n",
    " \n",
    "##local\n",
    "import extraction as ex\n",
    "import db.setup as db\n",
    "from db.insert import InsertError\n",
    "import API \n"
   ]
  },
  {
   "cell_type": "code",
   "execution_count": 2,
   "id": "6fc46635-2c2f-4e6d-813a-839a9b7ffb83",
   "metadata": {},
   "outputs": [],
   "source": [
    "browser = selenium_setup.SetupBrowser()"
   ]
  },
  {
   "cell_type": "code",
   "execution_count": 3,
   "id": "ed1519e3-a752-4d79-b019-dea99e37b04e",
   "metadata": {},
   "outputs": [],
   "source": [
    "url = r'https://www.researchgate.net/profile/Mohamed-Elbadawi/research'\n",
    "browser.get(url)"
   ]
  },
  {
   "cell_type": "code",
   "execution_count": 4,
   "id": "ce4789c4-804e-44d5-8967-fed90e8d85dd",
   "metadata": {},
   "outputs": [],
   "source": [
    "soup = bs(browser.page_source, features=\"lxml\")\n"
   ]
  },
  {
   "cell_type": "code",
   "execution_count": 5,
   "id": "7aea3fdc-33d9-4fc5-af8a-0ebe80a87ad1",
   "metadata": {},
   "outputs": [
    {
     "data": {
      "text/plain": [
       "('Mohamed Elbadawi',\n",
       " 'Null',\n",
       " 'Msc. molecular medicine',\n",
       " 'Null',\n",
       " '123',\n",
       " '5,681',\n",
       " '19',\n",
       " '1',\n",
       " 'Null',\n",
       " 'Institute of Pharmacy and Biochemistry - Therapeutic Life Sciences',\n",
       " 'Johannes Gutenberg-Universität Mainz')"
      ]
     },
     "execution_count": 5,
     "metadata": {},
     "output_type": "execute_result"
    }
   ],
   "source": [
    "ex.extract_profile(soup)"
   ]
  },
  {
   "cell_type": "code",
   "execution_count": 30,
   "id": "6840d427-bdcc-4220-9c32-be742ffc22e0",
   "metadata": {},
   "outputs": [
    {
     "name": "stdout",
     "output_type": "stream",
     "text": [
      "Introduction\n",
      "Additional affiliations\n"
     ]
    }
   ],
   "source": [
    "def extract_divs(soup):\n",
    "    divs = soup.find_all('div', class_='nova-legacy-c-card nova-legacy-c-card--spacing-xl nova-legacy-c-card--elevation-1-above profile-about__item')\n",
    "    \n",
    "    for i in range(1,len(divs)):\n",
    "        print(divs[i].div.div.text)\n",
    "#         skills = divs[i].find('div', class_='nova-legacy-l-flex__item nova-legacy-l-flex nova-legacy-l-flex--gutter-xs nova-legacy-l-flex--direction-row@s-up nova-legacy-l-flex--align-items-stretch@s-up nova-legacy-l-flex--justify-content-flex-start@s-up nova-legacy-l-flex--wrap-wrap@s-up js-target-skills')\n",
    "#         skill_l = []\n",
    "#         for skill in skills:\n",
    "#             skill_l.append(skill.text)\n",
    "        \n",
    "#         print()\n",
    "#         break\n",
    "\n",
    "    # for div in divs:\n",
    "    #     print(div.text)\n",
    "    #     print()\n",
    "    #     break\n",
    "        \n",
    "extract_divs(soup)"
   ]
  },
  {
   "cell_type": "code",
   "execution_count": 7,
   "id": "f16f7abc-fb8b-404b-9565-f97ca8d06a9d",
   "metadata": {},
   "outputs": [],
   "source": [
    "def extract_aff(soup):\n",
    "    affs = soup.find('div', class_='nova-legacy-e-text nova-legacy-e-text--size-l nova-legacy-e-text--family-sans-serif nova-legacy-e-text--spacing-none nova-legacy-e-text--color-grey-600').text \n",
    "    print(affs)\n",
    "    if affs != 'Additional affiliations':\n",
    "        return None\n",
    "    else:\n",
    "        affs = soup.find('div', class_='nova-legacy-o-stack nova-legacy-o-stack--gutter-m nova-legacy-o-stack--spacing-none nova-legacy-o-stack--no-gutter-outside js-target-affiliations-list')  \n",
    "\n",
    "        matches = affs.find_all('div', class_='nova-legacy-c-card nova-legacy-c-card--spacing-s nova-legacy-c-card--elevation-none')\n",
    "\n",
    "        affs_l = []\n",
    "        for match in matches:\n",
    "            dic = {}\n",
    "            aff = match.find('div', class_='nova-legacy-e-text nova-legacy-e-text--size-l nova-legacy-e-text--family-sans-serif nova-legacy-e-text--spacing-none nova-legacy-e-text--color-inherit nova-legacy-v-job-item__title').text\n",
    "            department = match.find( class_='nova-legacy-e-list nova-legacy-e-list--size-m nova-legacy-e-list--type-inline nova-legacy-e-list--spacing-none nova-legacy-v-job-item__meta-data')\n",
    "            try:\n",
    "                department_str = list(x.text for x in department.find_all('span'))\n",
    "                period = match.find('div', class_='nova-legacy-e-text nova-legacy-e-text--size-m nova-legacy-e-text--family-sans-serif nova-legacy-e-text--spacing-none nova-legacy-e-text--color-inherit nova-legacy-c-qualifier__label')\n",
    "                period_str = list(x.text for x in period.find_all('span'))\n",
    "                postion = match.find('div', class_='nova-legacy-e-text nova-legacy-e-text--size-m nova-legacy-e-text--family-sans-serif nova-legacy-e-text--spacing-none nova-legacy-e-text--color-inherit').text\n",
    "                dic['aff'] = aff\n",
    "                dic['department'] = to_str(department_str)\n",
    "                dic['postion'] = postion\n",
    "                dic['aff'] = aff\n",
    "                dic['period'] = period_str\n",
    "            except AttributeError:\n",
    "                dic['aff'] = 'Null'\n",
    "                dic['department'] = 'Null'\n",
    "                dic['postion'] = 'Null'\n",
    "                dic['aff'] = 'Null'\n",
    "                dic['period'] = 'Null'\n",
    "            affs_l.append(dic)\n",
    "\n",
    "        return affs_l\n"
   ]
  },
  {
   "cell_type": "code",
   "execution_count": null,
   "id": "92146709-7528-4070-87d9-3eaafc1053bf",
   "metadata": {},
   "outputs": [],
   "source": []
  }
 ],
 "metadata": {
  "kernelspec": {
   "display_name": "local-venv",
   "language": "python",
   "name": "local-venv"
  },
  "language_info": {
   "codemirror_mode": {
    "name": "ipython",
    "version": 3
   },
   "file_extension": ".py",
   "mimetype": "text/x-python",
   "name": "python",
   "nbconvert_exporter": "python",
   "pygments_lexer": "ipython3",
   "version": "3.10.4"
  }
 },
 "nbformat": 4,
 "nbformat_minor": 5
}
